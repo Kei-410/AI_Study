{
  "cells": [
    {
      "attachments": {},
      "cell_type": "markdown",
      "metadata": {
        "colab_type": "text",
        "id": "lP6JLo1tGNBg"
      },
      "source": [
        "# Artificial Neural Network"
      ]
    },
    {
      "attachments": {},
      "cell_type": "markdown",
      "metadata": {
        "colab_type": "text",
        "id": "gWZyYmS_UE_L"
      },
      "source": [
        "### Importing the libraries"
      ]
    },
    {
      "cell_type": "code",
      "execution_count": 2,
      "metadata": {
        "colab": {},
        "colab_type": "code",
        "id": "MxkJoQBkUIHC"
      },
      "outputs": [],
      "source": [
        "import numpy as np\n",
        "import pandas as pd\n",
        "import tensorflow as tf"
      ]
    },
    {
      "cell_type": "code",
      "execution_count": 3,
      "metadata": {
        "colab": {
          "base_uri": "https://localhost:8080/",
          "height": 34
        },
        "colab_type": "code",
        "id": "ZaTwK7ojXr2F",
        "outputId": "0b27a96d-d11a-43e8-ab4b-87c1f01896fe"
      },
      "outputs": [
        {
          "data": {
            "text/plain": [
              "'2.12.0'"
            ]
          },
          "execution_count": 3,
          "metadata": {},
          "output_type": "execute_result"
        }
      ],
      "source": [
        "tf.__version__"
      ]
    },
    {
      "attachments": {},
      "cell_type": "markdown",
      "metadata": {
        "colab_type": "text",
        "id": "1E0Q3aoKUCRX"
      },
      "source": [
        "## Part 1 - Data Preprocessing"
      ]
    },
    {
      "attachments": {},
      "cell_type": "markdown",
      "metadata": {
        "colab_type": "text",
        "id": "cKWAkFVGUU0Z"
      },
      "source": [
        "### Importing the dataset"
      ]
    },
    {
      "cell_type": "code",
      "execution_count": 4,
      "metadata": {},
      "outputs": [],
      "source": [
        "dataset = pd.read_csv(\"Churn_Modelling.csv\")\n",
        "x = dataset.iloc[: , 3:-1].values\n",
        "y = dataset.iloc[: , -1].values"
      ]
    },
    {
      "cell_type": "code",
      "execution_count": 5,
      "metadata": {},
      "outputs": [
        {
          "name": "stdout",
          "output_type": "stream",
          "text": [
            "[[619 'France' 'Female' ... 1 1 101348.88]\n",
            " [608 'Spain' 'Female' ... 0 1 112542.58]\n",
            " [502 'France' 'Female' ... 1 0 113931.57]\n",
            " ...\n",
            " [709 'France' 'Female' ... 0 1 42085.58]\n",
            " [772 'Germany' 'Male' ... 1 0 92888.52]\n",
            " [792 'France' 'Female' ... 1 0 38190.78]]\n"
          ]
        }
      ],
      "source": [
        "print(x)"
      ]
    },
    {
      "cell_type": "code",
      "execution_count": 6,
      "metadata": {},
      "outputs": [
        {
          "name": "stdout",
          "output_type": "stream",
          "text": [
            "[1 0 1 ... 1 1 0]\n"
          ]
        }
      ],
      "source": [
        "print(y)"
      ]
    },
    {
      "attachments": {},
      "cell_type": "markdown",
      "metadata": {
        "colab_type": "text",
        "id": "N6bQ0UgSU-NJ"
      },
      "source": [
        "### Encoding categorical data"
      ]
    },
    {
      "attachments": {},
      "cell_type": "markdown",
      "metadata": {
        "colab_type": "text",
        "id": "le5MJreAbW52"
      },
      "source": [
        "Label Encoding the \"Gender\" column"
      ]
    },
    {
      "cell_type": "code",
      "execution_count": 7,
      "metadata": {},
      "outputs": [],
      "source": [
        "from sklearn.preprocessing import LabelEncoder\n",
        "le = LabelEncoder()\n",
        "x[:, 2] = le.fit_transform(x[:, 2])"
      ]
    },
    {
      "cell_type": "code",
      "execution_count": 6,
      "metadata": {},
      "outputs": [
        {
          "name": "stdout",
          "output_type": "stream",
          "text": [
            "[[619 'France' 0 ... 1 1 101348.88]\n",
            " [608 'Spain' 0 ... 0 1 112542.58]\n",
            " [502 'France' 0 ... 1 0 113931.57]\n",
            " ...\n",
            " [709 'France' 0 ... 0 1 42085.58]\n",
            " [772 'Germany' 1 ... 1 0 92888.52]\n",
            " [792 'France' 0 ... 1 0 38190.78]]\n"
          ]
        }
      ],
      "source": [
        "print(x)"
      ]
    },
    {
      "attachments": {},
      "cell_type": "markdown",
      "metadata": {
        "colab_type": "text",
        "id": "CUxGZezpbMcb"
      },
      "source": [
        "One Hot Encoding the \"Geography\" column"
      ]
    },
    {
      "cell_type": "code",
      "execution_count": 8,
      "metadata": {},
      "outputs": [],
      "source": [
        "from sklearn.compose import ColumnTransformer\n",
        "from sklearn.preprocessing import OneHotEncoder\n",
        "ct = ColumnTransformer(transformers=[('encoder', OneHotEncoder(), [1])], remainder='passthrough')\n",
        "x = np.array(ct.fit_transform(x))"
      ]
    },
    {
      "cell_type": "code",
      "execution_count": 9,
      "metadata": {},
      "outputs": [
        {
          "name": "stdout",
          "output_type": "stream",
          "text": [
            "[[1.0 0.0 0.0 ... 1 1 101348.88]\n",
            " [0.0 0.0 1.0 ... 0 1 112542.58]\n",
            " [1.0 0.0 0.0 ... 1 0 113931.57]\n",
            " ...\n",
            " [1.0 0.0 0.0 ... 0 1 42085.58]\n",
            " [0.0 1.0 0.0 ... 1 0 92888.52]\n",
            " [1.0 0.0 0.0 ... 1 0 38190.78]]\n"
          ]
        }
      ],
      "source": [
        "print(x)"
      ]
    },
    {
      "attachments": {},
      "cell_type": "markdown",
      "metadata": {
        "colab_type": "text",
        "id": "vHol938cW8zd"
      },
      "source": [
        "### Splitting the dataset into the Training set and Test set"
      ]
    },
    {
      "cell_type": "code",
      "execution_count": 9,
      "metadata": {},
      "outputs": [],
      "source": [
        "from sklearn.model_selection import train_test_split\n",
        "X_train, X_test, y_train, y_test = train_test_split(x, y, test_size=0.2, random_state=0)"
      ]
    },
    {
      "attachments": {},
      "cell_type": "markdown",
      "metadata": {
        "colab_type": "text",
        "id": "RE_FcHyfV3TQ"
      },
      "source": [
        "### Feature Scaling"
      ]
    },
    {
      "cell_type": "code",
      "execution_count": 10,
      "metadata": {},
      "outputs": [],
      "source": [
        "from sklearn.preprocessing import StandardScaler\n",
        "sc = StandardScaler()\n",
        "X_train = sc.fit_transform(X_train)\n",
        "X_test = sc.fit_transform(X_test)"
      ]
    },
    {
      "attachments": {},
      "cell_type": "markdown",
      "metadata": {
        "colab_type": "text",
        "id": "-zfEzkRVXIwF"
      },
      "source": [
        "## Part 2 - Building the ANN"
      ]
    },
    {
      "attachments": {},
      "cell_type": "markdown",
      "metadata": {
        "colab_type": "text",
        "id": "KvdeScabXtlB"
      },
      "source": [
        "### Initializing the ANN"
      ]
    },
    {
      "cell_type": "code",
      "execution_count": 11,
      "metadata": {},
      "outputs": [],
      "source": [
        "ann = tf.keras.models.Sequential()"
      ]
    },
    {
      "attachments": {},
      "cell_type": "markdown",
      "metadata": {
        "colab_type": "text",
        "id": "rP6urV6SX7kS"
      },
      "source": [
        "### Adding the input layer and the first hidden layer"
      ]
    },
    {
      "cell_type": "code",
      "execution_count": 12,
      "metadata": {},
      "outputs": [],
      "source": [
        "ann.add(tf.keras.layers.Dense(units=6, activation='relu'))"
      ]
    },
    {
      "attachments": {},
      "cell_type": "markdown",
      "metadata": {
        "colab_type": "text",
        "id": "BELWAc_8YJze"
      },
      "source": [
        "### Adding the second hidden layer"
      ]
    },
    {
      "cell_type": "code",
      "execution_count": 13,
      "metadata": {},
      "outputs": [],
      "source": [
        "ann.add(tf.keras.layers.Dense(units=6, activation='relu'))"
      ]
    },
    {
      "attachments": {},
      "cell_type": "markdown",
      "metadata": {
        "colab_type": "text",
        "id": "OyNEe6RXYcU4"
      },
      "source": [
        "### Adding the output layer"
      ]
    },
    {
      "cell_type": "code",
      "execution_count": 14,
      "metadata": {},
      "outputs": [],
      "source": [
        "ann.add(tf.keras.layers.Dense(units=1, activation='sigmoid'))"
      ]
    },
    {
      "attachments": {},
      "cell_type": "markdown",
      "metadata": {
        "colab_type": "text",
        "id": "JT4u2S1_Y4WG"
      },
      "source": [
        "## Part 3 - Training the ANN"
      ]
    },
    {
      "attachments": {},
      "cell_type": "markdown",
      "metadata": {
        "colab_type": "text",
        "id": "8GWlJChhY_ZI"
      },
      "source": [
        "### Compiling the ANN"
      ]
    },
    {
      "cell_type": "code",
      "execution_count": 15,
      "metadata": {},
      "outputs": [],
      "source": [
        "ann.compile(optimizer = 'adam', loss = 'binary_crossentropy', metrics = ['accuracy'])"
      ]
    },
    {
      "attachments": {},
      "cell_type": "markdown",
      "metadata": {
        "colab_type": "text",
        "id": "0QR_G5u7ZLSM"
      },
      "source": [
        "### Training the ANN on the Training set"
      ]
    },
    {
      "cell_type": "code",
      "execution_count": 16,
      "metadata": {},
      "outputs": [
        {
          "name": "stdout",
          "output_type": "stream",
          "text": [
            "Epoch 1/100\n",
            "250/250 [==============================] - 1s 665us/step - loss: 0.5514 - accuracy: 0.7759\n",
            "Epoch 2/100\n",
            "250/250 [==============================] - 0s 659us/step - loss: 0.4633 - accuracy: 0.7960\n",
            "Epoch 3/100\n",
            "250/250 [==============================] - 0s 653us/step - loss: 0.4414 - accuracy: 0.7960\n",
            "Epoch 4/100\n",
            "250/250 [==============================] - 0s 662us/step - loss: 0.4326 - accuracy: 0.7960\n",
            "Epoch 5/100\n",
            "250/250 [==============================] - 0s 667us/step - loss: 0.4273 - accuracy: 0.7960\n",
            "Epoch 6/100\n",
            "250/250 [==============================] - 0s 661us/step - loss: 0.4232 - accuracy: 0.7960\n",
            "Epoch 7/100\n",
            "250/250 [==============================] - 0s 657us/step - loss: 0.4186 - accuracy: 0.7993\n",
            "Epoch 8/100\n",
            "250/250 [==============================] - 0s 649us/step - loss: 0.4142 - accuracy: 0.8146\n",
            "Epoch 9/100\n",
            "250/250 [==============================] - 0s 665us/step - loss: 0.4089 - accuracy: 0.8220\n",
            "Epoch 10/100\n",
            "250/250 [==============================] - 0s 653us/step - loss: 0.4014 - accuracy: 0.8274\n",
            "Epoch 11/100\n",
            "250/250 [==============================] - 0s 645us/step - loss: 0.3897 - accuracy: 0.8363\n",
            "Epoch 12/100\n",
            "250/250 [==============================] - 0s 649us/step - loss: 0.3752 - accuracy: 0.8476\n",
            "Epoch 13/100\n",
            "250/250 [==============================] - 0s 657us/step - loss: 0.3643 - accuracy: 0.8528\n",
            "Epoch 14/100\n",
            "250/250 [==============================] - 0s 657us/step - loss: 0.3579 - accuracy: 0.8539\n",
            "Epoch 15/100\n",
            "250/250 [==============================] - 0s 666us/step - loss: 0.3533 - accuracy: 0.8559\n",
            "Epoch 16/100\n",
            "250/250 [==============================] - 0s 662us/step - loss: 0.3511 - accuracy: 0.8568\n",
            "Epoch 17/100\n",
            "250/250 [==============================] - 0s 689us/step - loss: 0.3490 - accuracy: 0.8590\n",
            "Epoch 18/100\n",
            "250/250 [==============================] - 0s 649us/step - loss: 0.3474 - accuracy: 0.8589\n",
            "Epoch 19/100\n",
            "250/250 [==============================] - 0s 677us/step - loss: 0.3463 - accuracy: 0.8615\n",
            "Epoch 20/100\n",
            "250/250 [==============================] - 0s 661us/step - loss: 0.3455 - accuracy: 0.8602\n",
            "Epoch 21/100\n",
            "250/250 [==============================] - 0s 653us/step - loss: 0.3451 - accuracy: 0.8608\n",
            "Epoch 22/100\n",
            "250/250 [==============================] - 0s 656us/step - loss: 0.3441 - accuracy: 0.8608\n",
            "Epoch 23/100\n",
            "250/250 [==============================] - 0s 645us/step - loss: 0.3431 - accuracy: 0.8596\n",
            "Epoch 24/100\n",
            "250/250 [==============================] - 0s 655us/step - loss: 0.3430 - accuracy: 0.8611\n",
            "Epoch 25/100\n",
            "250/250 [==============================] - 0s 657us/step - loss: 0.3424 - accuracy: 0.8633\n",
            "Epoch 26/100\n",
            "250/250 [==============================] - 0s 653us/step - loss: 0.3414 - accuracy: 0.8612\n",
            "Epoch 27/100\n",
            "250/250 [==============================] - 0s 657us/step - loss: 0.3412 - accuracy: 0.8636\n",
            "Epoch 28/100\n",
            "250/250 [==============================] - 0s 657us/step - loss: 0.3409 - accuracy: 0.8621\n",
            "Epoch 29/100\n",
            "250/250 [==============================] - 0s 649us/step - loss: 0.3407 - accuracy: 0.8621\n",
            "Epoch 30/100\n",
            "250/250 [==============================] - 0s 661us/step - loss: 0.3403 - accuracy: 0.8610\n",
            "Epoch 31/100\n",
            "250/250 [==============================] - 0s 669us/step - loss: 0.3397 - accuracy: 0.8619\n",
            "Epoch 32/100\n",
            "250/250 [==============================] - 0s 661us/step - loss: 0.3397 - accuracy: 0.8619\n",
            "Epoch 33/100\n",
            "250/250 [==============================] - 0s 671us/step - loss: 0.3392 - accuracy: 0.8616\n",
            "Epoch 34/100\n",
            "250/250 [==============================] - 0s 653us/step - loss: 0.3391 - accuracy: 0.8624\n",
            "Epoch 35/100\n",
            "250/250 [==============================] - 0s 649us/step - loss: 0.3385 - accuracy: 0.8634\n",
            "Epoch 36/100\n",
            "250/250 [==============================] - 0s 661us/step - loss: 0.3387 - accuracy: 0.8616\n",
            "Epoch 37/100\n",
            "250/250 [==============================] - 0s 661us/step - loss: 0.3383 - accuracy: 0.8610\n",
            "Epoch 38/100\n",
            "250/250 [==============================] - 0s 661us/step - loss: 0.3385 - accuracy: 0.8614\n",
            "Epoch 39/100\n",
            "250/250 [==============================] - 0s 657us/step - loss: 0.3380 - accuracy: 0.8612\n",
            "Epoch 40/100\n",
            "250/250 [==============================] - 0s 663us/step - loss: 0.3378 - accuracy: 0.8616\n",
            "Epoch 41/100\n",
            "250/250 [==============================] - 0s 657us/step - loss: 0.3376 - accuracy: 0.8610\n",
            "Epoch 42/100\n",
            "250/250 [==============================] - 0s 651us/step - loss: 0.3381 - accuracy: 0.8602\n",
            "Epoch 43/100\n",
            "250/250 [==============================] - 0s 689us/step - loss: 0.3375 - accuracy: 0.8614\n",
            "Epoch 44/100\n",
            "250/250 [==============================] - 0s 665us/step - loss: 0.3372 - accuracy: 0.8627\n",
            "Epoch 45/100\n",
            "250/250 [==============================] - 0s 661us/step - loss: 0.3376 - accuracy: 0.8615\n",
            "Epoch 46/100\n",
            "250/250 [==============================] - 0s 653us/step - loss: 0.3371 - accuracy: 0.8616\n",
            "Epoch 47/100\n",
            "250/250 [==============================] - 0s 665us/step - loss: 0.3370 - accuracy: 0.8627\n",
            "Epoch 48/100\n",
            "250/250 [==============================] - 0s 653us/step - loss: 0.3366 - accuracy: 0.8637\n",
            "Epoch 49/100\n",
            "250/250 [==============================] - 0s 661us/step - loss: 0.3366 - accuracy: 0.8619\n",
            "Epoch 50/100\n",
            "250/250 [==============================] - 0s 660us/step - loss: 0.3366 - accuracy: 0.8619\n",
            "Epoch 51/100\n",
            "250/250 [==============================] - 0s 657us/step - loss: 0.3363 - accuracy: 0.8636\n",
            "Epoch 52/100\n",
            "250/250 [==============================] - 0s 646us/step - loss: 0.3364 - accuracy: 0.8615\n",
            "Epoch 53/100\n",
            "250/250 [==============================] - 0s 653us/step - loss: 0.3361 - accuracy: 0.8620\n",
            "Epoch 54/100\n",
            "250/250 [==============================] - 0s 653us/step - loss: 0.3358 - accuracy: 0.8612\n",
            "Epoch 55/100\n",
            "250/250 [==============================] - 0s 653us/step - loss: 0.3360 - accuracy: 0.8625\n",
            "Epoch 56/100\n",
            "250/250 [==============================] - 0s 661us/step - loss: 0.3358 - accuracy: 0.8611\n",
            "Epoch 57/100\n",
            "250/250 [==============================] - 0s 657us/step - loss: 0.3358 - accuracy: 0.8624\n",
            "Epoch 58/100\n",
            "250/250 [==============================] - 0s 661us/step - loss: 0.3354 - accuracy: 0.8625\n",
            "Epoch 59/100\n",
            "250/250 [==============================] - 0s 688us/step - loss: 0.3351 - accuracy: 0.8637\n",
            "Epoch 60/100\n",
            "250/250 [==============================] - 0s 659us/step - loss: 0.3354 - accuracy: 0.8634\n",
            "Epoch 61/100\n",
            "250/250 [==============================] - 0s 649us/step - loss: 0.3354 - accuracy: 0.8633\n",
            "Epoch 62/100\n",
            "250/250 [==============================] - 0s 664us/step - loss: 0.3353 - accuracy: 0.8631\n",
            "Epoch 63/100\n",
            "250/250 [==============================] - 0s 669us/step - loss: 0.3352 - accuracy: 0.8625\n",
            "Epoch 64/100\n",
            "250/250 [==============================] - 0s 661us/step - loss: 0.3351 - accuracy: 0.8629\n",
            "Epoch 65/100\n",
            "250/250 [==============================] - 0s 657us/step - loss: 0.3352 - accuracy: 0.8636\n",
            "Epoch 66/100\n",
            "250/250 [==============================] - 0s 657us/step - loss: 0.3344 - accuracy: 0.8634\n",
            "Epoch 67/100\n",
            "250/250 [==============================] - 0s 673us/step - loss: 0.3347 - accuracy: 0.8631\n",
            "Epoch 68/100\n",
            "250/250 [==============================] - 0s 669us/step - loss: 0.3347 - accuracy: 0.8630\n",
            "Epoch 69/100\n",
            "250/250 [==============================] - 0s 669us/step - loss: 0.3343 - accuracy: 0.8633\n",
            "Epoch 70/100\n",
            "250/250 [==============================] - 0s 655us/step - loss: 0.3342 - accuracy: 0.8630\n",
            "Epoch 71/100\n",
            "250/250 [==============================] - 0s 651us/step - loss: 0.3339 - accuracy: 0.8646\n",
            "Epoch 72/100\n",
            "250/250 [==============================] - 0s 653us/step - loss: 0.3343 - accuracy: 0.8648\n",
            "Epoch 73/100\n",
            "250/250 [==============================] - 0s 653us/step - loss: 0.3338 - accuracy: 0.8637\n",
            "Epoch 74/100\n",
            "250/250 [==============================] - 0s 649us/step - loss: 0.3339 - accuracy: 0.8644\n",
            "Epoch 75/100\n",
            "250/250 [==============================] - 0s 661us/step - loss: 0.3336 - accuracy: 0.8643\n",
            "Epoch 76/100\n",
            "250/250 [==============================] - 0s 653us/step - loss: 0.3337 - accuracy: 0.8633\n",
            "Epoch 77/100\n",
            "250/250 [==============================] - 0s 659us/step - loss: 0.3337 - accuracy: 0.8644\n",
            "Epoch 78/100\n",
            "250/250 [==============================] - 0s 652us/step - loss: 0.3333 - accuracy: 0.8658\n",
            "Epoch 79/100\n",
            "250/250 [==============================] - 0s 669us/step - loss: 0.3335 - accuracy: 0.8634\n",
            "Epoch 80/100\n",
            "250/250 [==============================] - 0s 658us/step - loss: 0.3334 - accuracy: 0.8648\n",
            "Epoch 81/100\n",
            "250/250 [==============================] - 0s 659us/step - loss: 0.3332 - accuracy: 0.8649\n",
            "Epoch 82/100\n",
            "250/250 [==============================] - 0s 652us/step - loss: 0.3333 - accuracy: 0.8649\n",
            "Epoch 83/100\n",
            "250/250 [==============================] - 0s 645us/step - loss: 0.3330 - accuracy: 0.8655\n",
            "Epoch 84/100\n",
            "250/250 [==============================] - 0s 653us/step - loss: 0.3331 - accuracy: 0.8646\n",
            "Epoch 85/100\n",
            "250/250 [==============================] - 0s 669us/step - loss: 0.3331 - accuracy: 0.8636\n",
            "Epoch 86/100\n",
            "250/250 [==============================] - 0s 661us/step - loss: 0.3327 - accuracy: 0.8649\n",
            "Epoch 87/100\n",
            "250/250 [==============================] - 0s 684us/step - loss: 0.3327 - accuracy: 0.8648\n",
            "Epoch 88/100\n",
            "250/250 [==============================] - 0s 645us/step - loss: 0.3328 - accuracy: 0.8648\n",
            "Epoch 89/100\n",
            "250/250 [==============================] - 0s 654us/step - loss: 0.3326 - accuracy: 0.8645\n",
            "Epoch 90/100\n",
            "250/250 [==============================] - 0s 648us/step - loss: 0.3325 - accuracy: 0.8662\n",
            "Epoch 91/100\n",
            "250/250 [==============================] - 0s 653us/step - loss: 0.3326 - accuracy: 0.8659\n",
            "Epoch 92/100\n",
            "250/250 [==============================] - 0s 665us/step - loss: 0.3326 - accuracy: 0.8636\n",
            "Epoch 93/100\n",
            "250/250 [==============================] - 0s 653us/step - loss: 0.3323 - accuracy: 0.8660\n",
            "Epoch 94/100\n",
            "250/250 [==============================] - 0s 669us/step - loss: 0.3322 - accuracy: 0.8654\n",
            "Epoch 95/100\n",
            "250/250 [==============================] - 0s 661us/step - loss: 0.3324 - accuracy: 0.8650\n",
            "Epoch 96/100\n",
            "250/250 [==============================] - 0s 658us/step - loss: 0.3322 - accuracy: 0.8654\n",
            "Epoch 97/100\n",
            "250/250 [==============================] - 0s 657us/step - loss: 0.3321 - accuracy: 0.8654\n",
            "Epoch 98/100\n",
            "250/250 [==============================] - 0s 652us/step - loss: 0.3324 - accuracy: 0.8645\n",
            "Epoch 99/100\n",
            "250/250 [==============================] - 0s 654us/step - loss: 0.3323 - accuracy: 0.8648\n",
            "Epoch 100/100\n",
            "250/250 [==============================] - 0s 649us/step - loss: 0.3321 - accuracy: 0.8645\n"
          ]
        },
        {
          "data": {
            "text/plain": [
              "<keras.callbacks.History at 0x1f3024b9ad0>"
            ]
          },
          "execution_count": 16,
          "metadata": {},
          "output_type": "execute_result"
        }
      ],
      "source": [
        "ann.fit(X_train, y_train, batch_size = 32, epochs = 100)"
      ]
    },
    {
      "attachments": {},
      "cell_type": "markdown",
      "metadata": {
        "colab_type": "text",
        "id": "tJj5k2MxZga3"
      },
      "source": [
        "## Part 4 - Making the predictions and evaluating the model"
      ]
    },
    {
      "attachments": {},
      "cell_type": "markdown",
      "metadata": {
        "colab_type": "text",
        "id": "84QFoqGYeXHL"
      },
      "source": [
        "### Predicting the result of a single observation"
      ]
    },
    {
      "attachments": {},
      "cell_type": "markdown",
      "metadata": {
        "colab_type": "text",
        "id": "CGRo3eacgDdC"
      },
      "source": [
        "**Homework**\n",
        "\n",
        "Use our ANN model to predict if the customer with the following informations will leave the bank: \n",
        "\n",
        "Geography: France\n",
        "\n",
        "Credit Score: 600\n",
        "\n",
        "Gender: Male\n",
        "\n",
        "Age: 40 years old\n",
        "\n",
        "Tenure: 3 years\n",
        "\n",
        "Balance: \\$ 60000\n",
        "\n",
        "Number of Products: 2\n",
        "\n",
        "Does this customer have a credit card ? Yes\n",
        "\n",
        "Is this customer an Active Member: Yes\n",
        "\n",
        "Estimated Salary: \\$ 50000\n",
        "\n",
        "So, should we say goodbye to that customer ?"
      ]
    },
    {
      "attachments": {},
      "cell_type": "markdown",
      "metadata": {
        "colab_type": "text",
        "id": "ZhU1LTgPg-kH"
      },
      "source": [
        "**Solution**"
      ]
    },
    {
      "cell_type": "code",
      "execution_count": 19,
      "metadata": {},
      "outputs": [
        {
          "name": "stdout",
          "output_type": "stream",
          "text": [
            "1/1 [==============================] - 0s 17ms/step\n",
            "[[0.02999889]]\n",
            "1/1 [==============================] - 0s 15ms/step\n",
            "[[False]]\n"
          ]
        }
      ],
      "source": [
        "print(ann.predict(sc.transform([[1, 0, 0, 600, 1, 40, 3, 60000,  2, 1, 1, 50000]])))\n",
        "print(ann.predict(sc.transform([[1, 0, 0, 600, 1, 40, 3, 60000,  2, 1, 1, 50000]])) > 0.5) #binary"
      ]
    },
    {
      "attachments": {},
      "cell_type": "markdown",
      "metadata": {
        "colab_type": "text",
        "id": "wGjx94g2n7OV"
      },
      "source": [
        "Therefore, our ANN model predicts that this customer stays in the bank!\n",
        "\n",
        "**Important note 1:** Notice that the values of the features were all input in a double pair of square brackets. That's because the \"predict\" method always expects a 2D array as the format of its inputs. And putting our values into a double pair of square brackets makes the input exactly a 2D array.\n",
        "\n",
        "**Important note 2:** Notice also that the \"France\" country was not input as a string in the last column but as \"1, 0, 0\" in the first three columns. That's because of course the predict method expects the one-hot-encoded values of the state, and as we see in the first row of the matrix of features X, \"France\" was encoded as \"1, 0, 0\". And be careful to include these values in the first three columns, because the dummy variables are always created in the first columns."
      ]
    },
    {
      "attachments": {},
      "cell_type": "markdown",
      "metadata": {
        "colab_type": "text",
        "id": "u7yx47jPZt11"
      },
      "source": [
        "### Predicting the Test set results"
      ]
    },
    {
      "cell_type": "code",
      "execution_count": 21,
      "metadata": {},
      "outputs": [
        {
          "name": "stdout",
          "output_type": "stream",
          "text": [
            "63/63 [==============================] - 0s 515us/step\n",
            "[[0 0]\n",
            " [0 1]\n",
            " [0 0]\n",
            " ...\n",
            " [0 0]\n",
            " [0 0]\n",
            " [0 0]]\n"
          ]
        }
      ],
      "source": [
        "y_pred = ann.predict(X_test)\n",
        "y_pred = (y_pred > 0.5)\n",
        "print(np.concatenate((y_pred.reshape(len(y_pred),1), y_test.reshape(len(y_test),1)),1))"
      ]
    },
    {
      "attachments": {},
      "cell_type": "markdown",
      "metadata": {
        "colab_type": "text",
        "id": "o0oyfLWoaEGw"
      },
      "source": [
        "### Making the Confusion Matrix"
      ]
    },
    {
      "cell_type": "code",
      "execution_count": 22,
      "metadata": {},
      "outputs": [
        {
          "name": "stdout",
          "output_type": "stream",
          "text": [
            "[[1528   67]\n",
            " [ 214  191]]\n"
          ]
        },
        {
          "data": {
            "text/plain": [
              "0.8595"
            ]
          },
          "execution_count": 22,
          "metadata": {},
          "output_type": "execute_result"
        }
      ],
      "source": [
        "from sklearn.metrics import confusion_matrix, accuracy_score\n",
        "cm = confusion_matrix(y_test, y_pred)\n",
        "print(cm)\n",
        "accuracy_score(y_test, y_pred)"
      ]
    }
  ],
  "metadata": {
    "colab": {
      "collapsed_sections": [],
      "name": "artificial_neural_network.ipynb",
      "provenance": [],
      "toc_visible": true
    },
    "kernelspec": {
      "display_name": "Python 3",
      "name": "python3"
    },
    "language_info": {
      "codemirror_mode": {
        "name": "ipython",
        "version": 3
      },
      "file_extension": ".py",
      "mimetype": "text/x-python",
      "name": "python",
      "nbconvert_exporter": "python",
      "pygments_lexer": "ipython3",
      "version": "3.11.4"
    }
  },
  "nbformat": 4,
  "nbformat_minor": 0
}
